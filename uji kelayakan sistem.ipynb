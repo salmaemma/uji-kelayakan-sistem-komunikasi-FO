{
 "cells": [
  {
   "cell_type": "code",
   "execution_count": 1,
   "metadata": {},
   "outputs": [],
   "source": [
    "from math import log10, sqrt"
   ]
  },
  {
   "cell_type": "code",
   "execution_count": 2,
   "metadata": {},
   "outputs": [],
   "source": [
    "#-- kabel FO G.652 - SI-SM\n",
    "L=5.422 #km\n",
    "Hspl=0.452 #km\n",
    "disp_M=3.56e-12 #s/km.nm\n",
    "alpha_f=0.3 #dB/km"
   ]
  },
  {
   "cell_type": "code",
   "execution_count": 3,
   "metadata": {},
   "outputs": [],
   "source": [
    "#-- Pengirim\n",
    "Ptx_db=5 #dBm\n",
    "spektral=0.1 #nm\n",
    "t_tx=0.16e-12 #s\n",
    "Mod_NRZ=0.7 #NRZ\n",
    "Mod_RZ=0.35 #RZ\n",
    "Br=2.4e9 #2.4Gbps\n",
    "Tb=1/Br #s"
   ]
  },
  {
   "cell_type": "code",
   "execution_count": 4,
   "metadata": {},
   "outputs": [],
   "source": [
    "#--Pengirim\n",
    "Sensitivitas = -28 #dBm\n",
    "t_rx=0.16e-12 #s"
   ]
  },
  {
   "cell_type": "code",
   "execution_count": 5,
   "metadata": {},
   "outputs": [],
   "source": [
    "#-- Redaman Kanal\n",
    "N_c=2\n",
    "alpha_c=0.25 #dB/titik\n",
    "N_sp=(L/Hspl)-1\n",
    "alpha_sp=0.05 #dB/titik\n",
    "Ms=4 #dB"
   ]
  },
  {
   "cell_type": "markdown",
   "metadata": {},
   "source": [
    "## Link Power Budget\n",
    "$$\\alpha_T= 2\\alpha_c+N_{sp}\\alpha_{sp}+L\\alpha_f+M_s$$"
   ]
  },
  {
   "cell_type": "code",
   "execution_count": 6,
   "metadata": {},
   "outputs": [
    {
     "name": "stdout",
     "output_type": "stream",
     "text": [
      "Redaman Kabel  6.6763787610619465 dB\n"
     ]
    }
   ],
   "source": [
    "alpha_t=N_c*alpha_c+N_sp*alpha_sp+L*alpha_f+Ms\n",
    "print (\"Redaman Kabel \",alpha_t, \"dB\")"
   ]
  },
  {
   "cell_type": "code",
   "execution_count": 7,
   "metadata": {},
   "outputs": [],
   "source": [
    "Prx=Ptx_db-alpha_t"
   ]
  },
  {
   "cell_type": "code",
   "execution_count": 8,
   "metadata": {},
   "outputs": [
    {
     "data": {
      "text/plain": [
       "-1.6763787610619465"
      ]
     },
     "execution_count": 8,
     "metadata": {},
     "output_type": "execute_result"
    }
   ],
   "source": [
    "Prx"
   ]
  },
  {
   "cell_type": "code",
   "execution_count": 9,
   "metadata": {},
   "outputs": [
    {
     "name": "stdout",
     "output_type": "stream",
     "text": [
      "LPB, terpenuhi\n"
     ]
    }
   ],
   "source": [
    "if Prx > Sensitivitas:\n",
    "    print(\"LPB, terpenuhi\")\n",
    "else:\n",
    "    print(\"Hitung Ulang !\")"
   ]
  },
  {
   "cell_type": "markdown",
   "metadata": {},
   "source": [
    "## Rise Time Budget\n",
    "$$t_(sys)=\\sqrt{t_{tx}^2+t_{mod}^2+t_{wg}^2+t_{rx}}. $$"
   ]
  },
  {
   "cell_type": "code",
   "execution_count": 10,
   "metadata": {},
   "outputs": [],
   "source": [
    "t_mat=disp_M*L*spektral\n",
    "t_wg=0 #diabaikan\n",
    "t_mod=0 #SM\n",
    "\n",
    "t_sys=sqrt(t_tx**2+\n",
    "          t_mat**2+\n",
    "          t_mod**2+\n",
    "          t_wg**2+\n",
    "           t_rx)"
   ]
  },
  {
   "cell_type": "code",
   "execution_count": 11,
   "metadata": {},
   "outputs": [
    {
     "data": {
      "text/plain": [
       "4.0000000000468926e-07"
      ]
     },
     "execution_count": 11,
     "metadata": {},
     "output_type": "execute_result"
    }
   ],
   "source": [
    "t_sys"
   ]
  },
  {
   "cell_type": "code",
   "execution_count": 12,
   "metadata": {},
   "outputs": [
    {
     "name": "stdout",
     "output_type": "stream",
     "text": [
      "Hitung Ulang!!\n"
     ]
    }
   ],
   "source": [
    "if (Tb*Mod_NRZ > t_sys) & (Tb*Mod_RZ > t_sys):\n",
    "    print(\"RTB, terpenuhi\")\n",
    "elif Tb*Mod_NRZ > t_sys:\n",
    "    print(\"RTB untuk RZ, terpenuhi\")\n",
    "elif Tb*Mod_RZ > t_sys:\n",
    "    print(\"RTB untuk RZ, terpenuhi\")\n",
    "else:\n",
    "    print(\"Hitung Ulang!!\")"
   ]
  },
  {
   "cell_type": "code",
   "execution_count": null,
   "metadata": {},
   "outputs": [],
   "source": []
  },
  {
   "cell_type": "code",
   "execution_count": null,
   "metadata": {},
   "outputs": [],
   "source": []
  }
 ],
 "metadata": {
  "kernelspec": {
   "display_name": "Python 3",
   "language": "python",
   "name": "python3"
  },
  "language_info": {
   "codemirror_mode": {
    "name": "ipython",
    "version": 3
   },
   "file_extension": ".py",
   "mimetype": "text/x-python",
   "name": "python",
   "nbconvert_exporter": "python",
   "pygments_lexer": "ipython3",
   "version": "3.7.6"
  }
 },
 "nbformat": 4,
 "nbformat_minor": 4
}
